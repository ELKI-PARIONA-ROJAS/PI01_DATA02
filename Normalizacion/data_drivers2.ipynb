{
 "cells": [
  {
   "cell_type": "code",
   "execution_count": 1,
   "metadata": {},
   "outputs": [
    {
     "name": "stdout",
     "output_type": "stream",
     "text": [
      "     forename     surname\n",
      "0       Lewis    Hamilton\n",
      "1        Nick    Heidfeld\n",
      "2        Nico     Rosberg\n",
      "3    Fernando      Alonso\n",
      "4      Heikki  Kovalainen\n",
      "..        ...         ...\n",
      "848    Pietro  Fittipaldi\n",
      "849      Jack      Aitken\n",
      "850      Yuki     Tsunoda\n",
      "851    Nikita     Mazepin\n",
      "852      Mick  Schumacher\n",
      "\n",
      "[853 rows x 2 columns]\n"
     ]
    }
   ],
   "source": [
    "import pandas as pd\n",
    "from ast import literal_eval\n",
    "\n",
    "df = pd.read_csv('F:/PROYECTO_INDIVIDUAL/DATA_ENGINEERING/PI01_DATA02/DATA_FINAL/drivers1.csv', converters={'Nombres': literal_eval}, sep=',')\n",
    "df = df['Nombres'].apply(pd.Series)\n",
    "print(df)"
   ]
  },
  {
   "cell_type": "code",
   "execution_count": 2,
   "metadata": {},
   "outputs": [],
   "source": [
    "# Importar la data de drivers_final.csv\n",
    "\n",
    "data_drivers = pd.read_csv('F:/PROYECTO_INDIVIDUAL/DATA_ENGINEERING/PI01_DATA02/DATA_FINAL/drivers1.csv')"
   ]
  },
  {
   "cell_type": "code",
   "execution_count": 3,
   "metadata": {},
   "outputs": [],
   "source": [
    "# Concatenar data_drivers con df\n",
    "data_drivers = pd.concat([data_drivers, df], axis=1)\n",
    "\n",
    "# Eliminar la columna Nombres\n",
    "data_drivers = data_drivers.drop(['Nombres'], axis=1)\n",
    "\n",
    "# Renombrar a las columnas forename y surname\n",
    "data_drivers = data_drivers.rename(columns={'forename': 'Nombre', 'surname': 'Apellido'})\n",
    "\n",
    "# Establecer como índice el IdPiloto\n",
    "data_drivers = data_drivers.set_index('IdPiloto')\n",
    "\n",
    "# Reordenar las columnas\n",
    "data_drivers = data_drivers[['Nombre_Piloto', 'Nro_Matricula', 'Codigo', 'Nombre', 'Apellido', 'Nacimiento', \n",
    "                            'Nacionalidad', 'Url_Piloto']]"
   ]
  },
  {
   "cell_type": "code",
   "execution_count": 4,
   "metadata": {},
   "outputs": [
    {
     "data": {
      "text/plain": [
       "Nombre_Piloto    0\n",
       "Nro_Matricula    0\n",
       "Codigo           0\n",
       "Nombre           0\n",
       "Apellido         0\n",
       "Nacimiento       0\n",
       "Nacionalidad     0\n",
       "Url_Piloto       0\n",
       "dtype: int64"
      ]
     },
     "execution_count": 4,
     "metadata": {},
     "output_type": "execute_result"
    }
   ],
   "source": [
    "# contar cuantos valores de tipo '\\\\N' hay en cada columna\n",
    "data_drivers.apply(lambda x: sum(x=='\\\\N'), axis=0)"
   ]
  },
  {
   "cell_type": "code",
   "execution_count": 5,
   "metadata": {},
   "outputs": [
    {
     "data": {
      "text/html": [
       "<div>\n",
       "<style scoped>\n",
       "    .dataframe tbody tr th:only-of-type {\n",
       "        vertical-align: middle;\n",
       "    }\n",
       "\n",
       "    .dataframe tbody tr th {\n",
       "        vertical-align: top;\n",
       "    }\n",
       "\n",
       "    .dataframe thead th {\n",
       "        text-align: right;\n",
       "    }\n",
       "</style>\n",
       "<table border=\"1\" class=\"dataframe\">\n",
       "  <thead>\n",
       "    <tr style=\"text-align: right;\">\n",
       "      <th></th>\n",
       "      <th>Nombre_Piloto</th>\n",
       "      <th>Nro_Matricula</th>\n",
       "      <th>Codigo</th>\n",
       "      <th>Nombre</th>\n",
       "      <th>Apellido</th>\n",
       "      <th>Nacimiento</th>\n",
       "      <th>Nacionalidad</th>\n",
       "      <th>Url_Piloto</th>\n",
       "    </tr>\n",
       "    <tr>\n",
       "      <th>IdPiloto</th>\n",
       "      <th></th>\n",
       "      <th></th>\n",
       "      <th></th>\n",
       "      <th></th>\n",
       "      <th></th>\n",
       "      <th></th>\n",
       "      <th></th>\n",
       "      <th></th>\n",
       "    </tr>\n",
       "  </thead>\n",
       "  <tbody>\n",
       "    <tr>\n",
       "      <th>1</th>\n",
       "      <td>Hamilton</td>\n",
       "      <td>44.0</td>\n",
       "      <td>Ham</td>\n",
       "      <td>Lewis</td>\n",
       "      <td>Hamilton</td>\n",
       "      <td>1985-01-07</td>\n",
       "      <td>British</td>\n",
       "      <td>http://en.wikipedia.org/wiki/Lewis_Hamilton</td>\n",
       "    </tr>\n",
       "    <tr>\n",
       "      <th>2</th>\n",
       "      <td>Heidfeld</td>\n",
       "      <td>NaN</td>\n",
       "      <td>Hei</td>\n",
       "      <td>Nick</td>\n",
       "      <td>Heidfeld</td>\n",
       "      <td>1977-05-10</td>\n",
       "      <td>German</td>\n",
       "      <td>http://en.wikipedia.org/wiki/Nick_Heidfeld</td>\n",
       "    </tr>\n",
       "    <tr>\n",
       "      <th>3</th>\n",
       "      <td>Rosberg</td>\n",
       "      <td>6.0</td>\n",
       "      <td>Ros</td>\n",
       "      <td>Nico</td>\n",
       "      <td>Rosberg</td>\n",
       "      <td>1985-06-27</td>\n",
       "      <td>German</td>\n",
       "      <td>http://en.wikipedia.org/wiki/Nico_Rosberg</td>\n",
       "    </tr>\n",
       "    <tr>\n",
       "      <th>4</th>\n",
       "      <td>Alonso</td>\n",
       "      <td>14.0</td>\n",
       "      <td>Alo</td>\n",
       "      <td>Fernando</td>\n",
       "      <td>Alonso</td>\n",
       "      <td>1981-07-29</td>\n",
       "      <td>Spanish</td>\n",
       "      <td>http://en.wikipedia.org/wiki/Fernando_Alonso</td>\n",
       "    </tr>\n",
       "    <tr>\n",
       "      <th>5</th>\n",
       "      <td>Kovalainen</td>\n",
       "      <td>NaN</td>\n",
       "      <td>Kov</td>\n",
       "      <td>Heikki</td>\n",
       "      <td>Kovalainen</td>\n",
       "      <td>1981-10-19</td>\n",
       "      <td>Finnish</td>\n",
       "      <td>http://en.wikipedia.org/wiki/Heikki_Kovalainen</td>\n",
       "    </tr>\n",
       "  </tbody>\n",
       "</table>\n",
       "</div>"
      ],
      "text/plain": [
       "         Nombre_Piloto  Nro_Matricula Codigo    Nombre    Apellido  \\\n",
       "IdPiloto                                                             \n",
       "1             Hamilton           44.0    Ham     Lewis    Hamilton   \n",
       "2             Heidfeld            NaN    Hei      Nick    Heidfeld   \n",
       "3              Rosberg            6.0    Ros      Nico     Rosberg   \n",
       "4               Alonso           14.0    Alo  Fernando      Alonso   \n",
       "5           Kovalainen            NaN    Kov    Heikki  Kovalainen   \n",
       "\n",
       "          Nacimiento Nacionalidad  \\\n",
       "IdPiloto                            \n",
       "1         1985-01-07      British   \n",
       "2         1977-05-10       German   \n",
       "3         1985-06-27       German   \n",
       "4         1981-07-29      Spanish   \n",
       "5         1981-10-19      Finnish   \n",
       "\n",
       "                                              Url_Piloto  \n",
       "IdPiloto                                                  \n",
       "1            http://en.wikipedia.org/wiki/Lewis_Hamilton  \n",
       "2             http://en.wikipedia.org/wiki/Nick_Heidfeld  \n",
       "3              http://en.wikipedia.org/wiki/Nico_Rosberg  \n",
       "4           http://en.wikipedia.org/wiki/Fernando_Alonso  \n",
       "5         http://en.wikipedia.org/wiki/Heikki_Kovalainen  "
      ]
     },
     "execution_count": 5,
     "metadata": {},
     "output_type": "execute_result"
    }
   ],
   "source": [
    "data_drivers.head()"
   ]
  },
  {
   "cell_type": "code",
   "execution_count": null,
   "metadata": {},
   "outputs": [],
   "source": []
  },
  {
   "cell_type": "code",
   "execution_count": 6,
   "metadata": {},
   "outputs": [
    {
     "name": "stdout",
     "output_type": "stream",
     "text": [
      "<class 'pandas.core.frame.DataFrame'>\n",
      "Int64Index: 853 entries, 1 to 854\n",
      "Data columns (total 8 columns):\n",
      " #   Column         Non-Null Count  Dtype  \n",
      "---  ------         --------------  -----  \n",
      " 0   Nombre_Piloto  853 non-null    object \n",
      " 1   Nro_Matricula  47 non-null     float64\n",
      " 2   Codigo         96 non-null     object \n",
      " 3   Nombre         853 non-null    object \n",
      " 4   Apellido       853 non-null    object \n",
      " 5   Nacimiento     853 non-null    object \n",
      " 6   Nacionalidad   853 non-null    object \n",
      " 7   Url_Piloto     853 non-null    object \n",
      "dtypes: float64(1), object(7)\n",
      "memory usage: 36.7+ KB\n"
     ]
    }
   ],
   "source": [
    "data_drivers.info()"
   ]
  },
  {
   "cell_type": "code",
   "execution_count": 7,
   "metadata": {},
   "outputs": [],
   "source": [
    "# Exportar la data a un archivo csv\n",
    "data_drivers.to_csv('F:/PROYECTO_INDIVIDUAL/DATA_ENGINEERING/PI01_DATA02/DATA_FINAL/drivers2.csv')"
   ]
  }
 ],
 "metadata": {
  "kernelspec": {
   "display_name": "Python 3.8.5 32-bit",
   "language": "python",
   "name": "python3"
  },
  "language_info": {
   "codemirror_mode": {
    "name": "ipython",
    "version": 3
   },
   "file_extension": ".py",
   "mimetype": "text/x-python",
   "name": "python",
   "nbconvert_exporter": "python",
   "pygments_lexer": "ipython3",
   "version": "3.8.5"
  },
  "orig_nbformat": 4,
  "vscode": {
   "interpreter": {
    "hash": "e0784752781a6d909a602a7d3022c4f4bee7a870c3a195c2e9353548b6665c26"
   }
  }
 },
 "nbformat": 4,
 "nbformat_minor": 2
}
