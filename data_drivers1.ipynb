{
 "cells": [
  {
   "cell_type": "code",
   "execution_count": 1,
   "metadata": {},
   "outputs": [],
   "source": [
    "# importar las librerias y la base de datos\n",
    "\n",
    "import pandas as pd\n",
    "import numpy as np\n",
    "\n",
    "data_drivers = pd.read_json('Datasets/drivers.json', lines=True)\n",
    "\n",
    "#df=pd.concat([df.drop(['name'], axis=1),df['name'].apply(pd.Series)], axis=1)"
   ]
  },
  {
   "cell_type": "code",
   "execution_count": 2,
   "metadata": {},
   "outputs": [
    {
     "data": {
      "text/html": [
       "<div>\n",
       "<style scoped>\n",
       "    .dataframe tbody tr th:only-of-type {\n",
       "        vertical-align: middle;\n",
       "    }\n",
       "\n",
       "    .dataframe tbody tr th {\n",
       "        vertical-align: top;\n",
       "    }\n",
       "\n",
       "    .dataframe thead th {\n",
       "        text-align: right;\n",
       "    }\n",
       "</style>\n",
       "<table border=\"1\" class=\"dataframe\">\n",
       "  <thead>\n",
       "    <tr style=\"text-align: right;\">\n",
       "      <th></th>\n",
       "      <th>driverId</th>\n",
       "      <th>driverRef</th>\n",
       "      <th>number</th>\n",
       "      <th>code</th>\n",
       "      <th>name</th>\n",
       "      <th>dob</th>\n",
       "      <th>nationality</th>\n",
       "      <th>url</th>\n",
       "    </tr>\n",
       "  </thead>\n",
       "  <tbody>\n",
       "    <tr>\n",
       "      <th>0</th>\n",
       "      <td>1</td>\n",
       "      <td>hamilton</td>\n",
       "      <td>44</td>\n",
       "      <td>HAM</td>\n",
       "      <td>{'forename': 'Lewis', 'surname': 'Hamilton'}</td>\n",
       "      <td>1985-01-07</td>\n",
       "      <td>British</td>\n",
       "      <td>http://en.wikipedia.org/wiki/Lewis_Hamilton</td>\n",
       "    </tr>\n",
       "    <tr>\n",
       "      <th>1</th>\n",
       "      <td>2</td>\n",
       "      <td>heidfeld</td>\n",
       "      <td>\\N</td>\n",
       "      <td>HEI</td>\n",
       "      <td>{'forename': 'Nick', 'surname': 'Heidfeld'}</td>\n",
       "      <td>1977-05-10</td>\n",
       "      <td>German</td>\n",
       "      <td>http://en.wikipedia.org/wiki/Nick_Heidfeld</td>\n",
       "    </tr>\n",
       "    <tr>\n",
       "      <th>2</th>\n",
       "      <td>3</td>\n",
       "      <td>rosberg</td>\n",
       "      <td>6</td>\n",
       "      <td>ROS</td>\n",
       "      <td>{'forename': 'Nico', 'surname': 'Rosberg'}</td>\n",
       "      <td>1985-06-27</td>\n",
       "      <td>German</td>\n",
       "      <td>http://en.wikipedia.org/wiki/Nico_Rosberg</td>\n",
       "    </tr>\n",
       "    <tr>\n",
       "      <th>3</th>\n",
       "      <td>4</td>\n",
       "      <td>alonso</td>\n",
       "      <td>14</td>\n",
       "      <td>ALO</td>\n",
       "      <td>{'forename': 'Fernando', 'surname': 'Alonso'}</td>\n",
       "      <td>1981-07-29</td>\n",
       "      <td>Spanish</td>\n",
       "      <td>http://en.wikipedia.org/wiki/Fernando_Alonso</td>\n",
       "    </tr>\n",
       "    <tr>\n",
       "      <th>4</th>\n",
       "      <td>5</td>\n",
       "      <td>kovalainen</td>\n",
       "      <td>\\N</td>\n",
       "      <td>KOV</td>\n",
       "      <td>{'forename': 'Heikki', 'surname': 'Kovalainen'}</td>\n",
       "      <td>1981-10-19</td>\n",
       "      <td>Finnish</td>\n",
       "      <td>http://en.wikipedia.org/wiki/Heikki_Kovalainen</td>\n",
       "    </tr>\n",
       "  </tbody>\n",
       "</table>\n",
       "</div>"
      ],
      "text/plain": [
       "   driverId   driverRef number code  \\\n",
       "0         1    hamilton     44  HAM   \n",
       "1         2    heidfeld     \\N  HEI   \n",
       "2         3     rosberg      6  ROS   \n",
       "3         4      alonso     14  ALO   \n",
       "4         5  kovalainen     \\N  KOV   \n",
       "\n",
       "                                              name         dob nationality  \\\n",
       "0     {'forename': 'Lewis', 'surname': 'Hamilton'}  1985-01-07     British   \n",
       "1      {'forename': 'Nick', 'surname': 'Heidfeld'}  1977-05-10      German   \n",
       "2       {'forename': 'Nico', 'surname': 'Rosberg'}  1985-06-27      German   \n",
       "3    {'forename': 'Fernando', 'surname': 'Alonso'}  1981-07-29     Spanish   \n",
       "4  {'forename': 'Heikki', 'surname': 'Kovalainen'}  1981-10-19     Finnish   \n",
       "\n",
       "                                              url  \n",
       "0     http://en.wikipedia.org/wiki/Lewis_Hamilton  \n",
       "1      http://en.wikipedia.org/wiki/Nick_Heidfeld  \n",
       "2       http://en.wikipedia.org/wiki/Nico_Rosberg  \n",
       "3    http://en.wikipedia.org/wiki/Fernando_Alonso  \n",
       "4  http://en.wikipedia.org/wiki/Heikki_Kovalainen  "
      ]
     },
     "execution_count": 2,
     "metadata": {},
     "output_type": "execute_result"
    }
   ],
   "source": [
    "data_drivers.head()"
   ]
  },
  {
   "cell_type": "code",
   "execution_count": 3,
   "metadata": {},
   "outputs": [
    {
     "name": "stdout",
     "output_type": "stream",
     "text": [
      "<class 'pandas.core.frame.DataFrame'>\n",
      "RangeIndex: 853 entries, 0 to 852\n",
      "Data columns (total 8 columns):\n",
      " #   Column       Non-Null Count  Dtype \n",
      "---  ------       --------------  ----- \n",
      " 0   driverId     853 non-null    int64 \n",
      " 1   driverRef    853 non-null    object\n",
      " 2   number       853 non-null    object\n",
      " 3   code         853 non-null    object\n",
      " 4   name         853 non-null    object\n",
      " 5   dob          853 non-null    object\n",
      " 6   nationality  853 non-null    object\n",
      " 7   url          853 non-null    object\n",
      "dtypes: int64(1), object(7)\n",
      "memory usage: 30.1+ KB\n"
     ]
    }
   ],
   "source": [
    "data_drivers.info()"
   ]
  },
  {
   "cell_type": "code",
   "execution_count": 4,
   "metadata": {},
   "outputs": [],
   "source": [
    "# renombrar las columnas\n",
    "data_drivers.rename(columns={'driverId':'IdPiloto','driverRef':'Nombre_Piloto','number':'Nro_Matricula',\n",
    "                            'code':'Codigo','name':'Nombres','dob':'Nacimiento','nationality':'Nacionalidad',\n",
    "                            'url':'Url_Piloto'}, inplace=True)"
   ]
  },
  {
   "cell_type": "code",
   "execution_count": 5,
   "metadata": {},
   "outputs": [],
   "source": [
    "# establecer a driverId como indice\n",
    "data_drivers = data_drivers.set_index('IdPiloto')"
   ]
  },
  {
   "cell_type": "code",
   "execution_count": 6,
   "metadata": {},
   "outputs": [],
   "source": [
    "# Eliminar los espacios en blanco en las columnas tipo objeto\n",
    "data_drivers['Nombre_Piloto'] = data_drivers['Nombre_Piloto'].str.strip()\n",
    "data_drivers['Codigo'] = data_drivers['Codigo'].str.strip()\n",
    "data_drivers['Nacimiento'] = data_drivers['Nacimiento'].str.strip()\n",
    "data_drivers['Nacionalidad'] = data_drivers['Nacionalidad'].str.strip()\n",
    "data_drivers['Url_Piloto'] = data_drivers['Url_Piloto'].str.strip()\n",
    "\n",
    "# data_drivers['Nro_Matricula'] = data_drivers['Nro_Matricula'].str.strip() \n",
    "# El strip no funciona en este caso, porque destruye valores numericos\n",
    "\n",
    "# Poner en modo titulo los nombres en la columna ciudad\n",
    "data_drivers['Nombre_Piloto'] = data_drivers['Nombre_Piloto'].str.title()\n",
    "data_drivers['Codigo'] = data_drivers['Codigo'].str.title()\n",
    "data_drivers['Nacionalidad'] = data_drivers['Nacionalidad'].str.title()"
   ]
  },
  {
   "cell_type": "code",
   "execution_count": 7,
   "metadata": {},
   "outputs": [
    {
     "data": {
      "text/plain": [
       "Nombre_Piloto      0\n",
       "Nro_Matricula    806\n",
       "Codigo           757\n",
       "Nombres            0\n",
       "Nacimiento         0\n",
       "Nacionalidad       0\n",
       "Url_Piloto         0\n",
       "dtype: int64"
      ]
     },
     "execution_count": 7,
     "metadata": {},
     "output_type": "execute_result"
    }
   ],
   "source": [
    "# contar cuantos valores de tipo '\\\\N' hay en cada columna\n",
    "data_drivers.apply(lambda x: sum(x=='\\\\N'), axis=0)\n"
   ]
  },
  {
   "cell_type": "code",
   "execution_count": null,
   "metadata": {},
   "outputs": [],
   "source": []
  },
  {
   "cell_type": "code",
   "execution_count": 8,
   "metadata": {},
   "outputs": [],
   "source": [
    "# Reemplazar los valores '\\\\N' y los vacios por valores nulos\n",
    "data_drivers = data_drivers.replace('\\\\N', np.nan)\n",
    "data_drivers = data_drivers.replace('', np.nan)\n",
    "\n",
    "# Cambiar tipo de dato de la columna date\n",
    "data_drivers['Nacimiento'] = pd.to_datetime(data_drivers['Nacimiento'], format='%Y/%m/%d')"
   ]
  },
  {
   "cell_type": "code",
   "execution_count": 9,
   "metadata": {},
   "outputs": [
    {
     "data": {
      "text/html": [
       "<div>\n",
       "<style scoped>\n",
       "    .dataframe tbody tr th:only-of-type {\n",
       "        vertical-align: middle;\n",
       "    }\n",
       "\n",
       "    .dataframe tbody tr th {\n",
       "        vertical-align: top;\n",
       "    }\n",
       "\n",
       "    .dataframe thead th {\n",
       "        text-align: right;\n",
       "    }\n",
       "</style>\n",
       "<table border=\"1\" class=\"dataframe\">\n",
       "  <thead>\n",
       "    <tr style=\"text-align: right;\">\n",
       "      <th></th>\n",
       "      <th>Nombre_Piloto</th>\n",
       "      <th>Nro_Matricula</th>\n",
       "      <th>Codigo</th>\n",
       "      <th>Nombres</th>\n",
       "      <th>Nacimiento</th>\n",
       "      <th>Nacionalidad</th>\n",
       "      <th>Url_Piloto</th>\n",
       "    </tr>\n",
       "    <tr>\n",
       "      <th>IdPiloto</th>\n",
       "      <th></th>\n",
       "      <th></th>\n",
       "      <th></th>\n",
       "      <th></th>\n",
       "      <th></th>\n",
       "      <th></th>\n",
       "      <th></th>\n",
       "    </tr>\n",
       "  </thead>\n",
       "  <tbody>\n",
       "    <tr>\n",
       "      <th>1</th>\n",
       "      <td>Hamilton</td>\n",
       "      <td>44.0</td>\n",
       "      <td>Ham</td>\n",
       "      <td>{'forename': 'Lewis', 'surname': 'Hamilton'}</td>\n",
       "      <td>1985-01-07</td>\n",
       "      <td>British</td>\n",
       "      <td>http://en.wikipedia.org/wiki/Lewis_Hamilton</td>\n",
       "    </tr>\n",
       "    <tr>\n",
       "      <th>2</th>\n",
       "      <td>Heidfeld</td>\n",
       "      <td>NaN</td>\n",
       "      <td>Hei</td>\n",
       "      <td>{'forename': 'Nick', 'surname': 'Heidfeld'}</td>\n",
       "      <td>1977-05-10</td>\n",
       "      <td>German</td>\n",
       "      <td>http://en.wikipedia.org/wiki/Nick_Heidfeld</td>\n",
       "    </tr>\n",
       "    <tr>\n",
       "      <th>3</th>\n",
       "      <td>Rosberg</td>\n",
       "      <td>6.0</td>\n",
       "      <td>Ros</td>\n",
       "      <td>{'forename': 'Nico', 'surname': 'Rosberg'}</td>\n",
       "      <td>1985-06-27</td>\n",
       "      <td>German</td>\n",
       "      <td>http://en.wikipedia.org/wiki/Nico_Rosberg</td>\n",
       "    </tr>\n",
       "    <tr>\n",
       "      <th>4</th>\n",
       "      <td>Alonso</td>\n",
       "      <td>14.0</td>\n",
       "      <td>Alo</td>\n",
       "      <td>{'forename': 'Fernando', 'surname': 'Alonso'}</td>\n",
       "      <td>1981-07-29</td>\n",
       "      <td>Spanish</td>\n",
       "      <td>http://en.wikipedia.org/wiki/Fernando_Alonso</td>\n",
       "    </tr>\n",
       "    <tr>\n",
       "      <th>5</th>\n",
       "      <td>Kovalainen</td>\n",
       "      <td>NaN</td>\n",
       "      <td>Kov</td>\n",
       "      <td>{'forename': 'Heikki', 'surname': 'Kovalainen'}</td>\n",
       "      <td>1981-10-19</td>\n",
       "      <td>Finnish</td>\n",
       "      <td>http://en.wikipedia.org/wiki/Heikki_Kovalainen</td>\n",
       "    </tr>\n",
       "  </tbody>\n",
       "</table>\n",
       "</div>"
      ],
      "text/plain": [
       "         Nombre_Piloto  Nro_Matricula Codigo  \\\n",
       "IdPiloto                                       \n",
       "1             Hamilton           44.0    Ham   \n",
       "2             Heidfeld            NaN    Hei   \n",
       "3              Rosberg            6.0    Ros   \n",
       "4               Alonso           14.0    Alo   \n",
       "5           Kovalainen            NaN    Kov   \n",
       "\n",
       "                                                  Nombres Nacimiento  \\\n",
       "IdPiloto                                                               \n",
       "1            {'forename': 'Lewis', 'surname': 'Hamilton'} 1985-01-07   \n",
       "2             {'forename': 'Nick', 'surname': 'Heidfeld'} 1977-05-10   \n",
       "3              {'forename': 'Nico', 'surname': 'Rosberg'} 1985-06-27   \n",
       "4           {'forename': 'Fernando', 'surname': 'Alonso'} 1981-07-29   \n",
       "5         {'forename': 'Heikki', 'surname': 'Kovalainen'} 1981-10-19   \n",
       "\n",
       "         Nacionalidad                                      Url_Piloto  \n",
       "IdPiloto                                                               \n",
       "1             British     http://en.wikipedia.org/wiki/Lewis_Hamilton  \n",
       "2              German      http://en.wikipedia.org/wiki/Nick_Heidfeld  \n",
       "3              German       http://en.wikipedia.org/wiki/Nico_Rosberg  \n",
       "4             Spanish    http://en.wikipedia.org/wiki/Fernando_Alonso  \n",
       "5             Finnish  http://en.wikipedia.org/wiki/Heikki_Kovalainen  "
      ]
     },
     "execution_count": 9,
     "metadata": {},
     "output_type": "execute_result"
    }
   ],
   "source": [
    "data_drivers.head()"
   ]
  },
  {
   "cell_type": "code",
   "execution_count": 10,
   "metadata": {},
   "outputs": [
    {
     "name": "stdout",
     "output_type": "stream",
     "text": [
      "<class 'pandas.core.frame.DataFrame'>\n",
      "Int64Index: 853 entries, 1 to 854\n",
      "Data columns (total 7 columns):\n",
      " #   Column         Non-Null Count  Dtype         \n",
      "---  ------         --------------  -----         \n",
      " 0   Nombre_Piloto  853 non-null    object        \n",
      " 1   Nro_Matricula  47 non-null     float64       \n",
      " 2   Codigo         96 non-null     object        \n",
      " 3   Nombres        853 non-null    object        \n",
      " 4   Nacimiento     853 non-null    datetime64[ns]\n",
      " 5   Nacionalidad   853 non-null    object        \n",
      " 6   Url_Piloto     853 non-null    object        \n",
      "dtypes: datetime64[ns](1), float64(1), object(5)\n",
      "memory usage: 36.7+ KB\n"
     ]
    }
   ],
   "source": [
    "data_drivers.info()"
   ]
  },
  {
   "cell_type": "code",
   "execution_count": 11,
   "metadata": {},
   "outputs": [],
   "source": [
    "# exportar la data a un archivo csv\n",
    "data_drivers.to_csv('DATA_FINAL/drivers_final1.csv')"
   ]
  }
 ],
 "metadata": {
  "kernelspec": {
   "display_name": "Python 3.8.5 32-bit",
   "language": "python",
   "name": "python3"
  },
  "language_info": {
   "codemirror_mode": {
    "name": "ipython",
    "version": 3
   },
   "file_extension": ".py",
   "mimetype": "text/x-python",
   "name": "python",
   "nbconvert_exporter": "python",
   "pygments_lexer": "ipython3",
   "version": "3.8.5"
  },
  "orig_nbformat": 4,
  "vscode": {
   "interpreter": {
    "hash": "e0784752781a6d909a602a7d3022c4f4bee7a870c3a195c2e9353548b6665c26"
   }
  }
 },
 "nbformat": 4,
 "nbformat_minor": 2
}
