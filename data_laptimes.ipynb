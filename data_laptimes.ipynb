{
 "cells": [
  {
   "cell_type": "code",
   "execution_count": 1,
   "metadata": {},
   "outputs": [],
   "source": [
    "# importar la data del archivo csv y convertirlo en un dataframe\n",
    "import pandas as pd\n",
    "import numpy as np\n",
    "\n",
    "data_lap1 = pd.read_csv('Datasets/lap_times/lap_times_split_1.csv', sep=',')\n",
    "data_lap2 = pd.read_csv('Datasets/lap_times/lap_times_split_2.csv', sep=',')\n",
    "data_lap3 = pd.read_csv('Datasets/lap_times/lap_times_split_3.csv', sep=',')\n",
    "data_lap4 = pd.read_csv('Datasets/lap_times/lap_times_split_4.csv', sep=',')\n",
    "data_lap5 = pd.read_csv('Datasets/lap_times/lap_times_split_5.csv', sep=',')\n",
    "\n",
    "# Asignar nombres a las columnas\n",
    "data_lap1.columns = ['IdCarrera', 'IdPiloto', 'Vuelta', 'Posicion', 'Tiempo','Duracion(ms)']\n",
    "data_lap2.columns = ['IdCarrera', 'IdPiloto', 'Vuelta', 'Posicion', 'Tiempo','Duracion(ms)']\n",
    "data_lap3.columns = ['IdCarrera', 'IdPiloto', 'Vuelta', 'Posicion', 'Tiempo','Duracion(ms)']\n",
    "data_lap4.columns = ['IdCarrera', 'IdPiloto', 'Vuelta', 'Posicion', 'Tiempo','Duracion(ms)']\n",
    "data_lap5.columns = ['IdCarrera', 'IdPiloto', 'Vuelta', 'Posicion', 'Tiempo','Duracion(ms)']\n"
   ]
  },
  {
   "cell_type": "code",
   "execution_count": 2,
   "metadata": {},
   "outputs": [
    {
     "data": {
      "text/html": [
       "<div>\n",
       "<style scoped>\n",
       "    .dataframe tbody tr th:only-of-type {\n",
       "        vertical-align: middle;\n",
       "    }\n",
       "\n",
       "    .dataframe tbody tr th {\n",
       "        vertical-align: top;\n",
       "    }\n",
       "\n",
       "    .dataframe thead th {\n",
       "        text-align: right;\n",
       "    }\n",
       "</style>\n",
       "<table border=\"1\" class=\"dataframe\">\n",
       "  <thead>\n",
       "    <tr style=\"text-align: right;\">\n",
       "      <th></th>\n",
       "      <th>IdCarrera</th>\n",
       "      <th>IdPiloto</th>\n",
       "      <th>Vuelta</th>\n",
       "      <th>Posicion</th>\n",
       "      <th>Tiempo</th>\n",
       "      <th>Duracion(ms)</th>\n",
       "    </tr>\n",
       "  </thead>\n",
       "  <tbody>\n",
       "    <tr>\n",
       "      <th>0</th>\n",
       "      <td>841</td>\n",
       "      <td>20</td>\n",
       "      <td>2</td>\n",
       "      <td>1</td>\n",
       "      <td>1:33.006</td>\n",
       "      <td>93006</td>\n",
       "    </tr>\n",
       "    <tr>\n",
       "      <th>1</th>\n",
       "      <td>841</td>\n",
       "      <td>20</td>\n",
       "      <td>3</td>\n",
       "      <td>1</td>\n",
       "      <td>1:32.713</td>\n",
       "      <td>92713</td>\n",
       "    </tr>\n",
       "    <tr>\n",
       "      <th>2</th>\n",
       "      <td>841</td>\n",
       "      <td>20</td>\n",
       "      <td>4</td>\n",
       "      <td>1</td>\n",
       "      <td>1:32.803</td>\n",
       "      <td>92803</td>\n",
       "    </tr>\n",
       "    <tr>\n",
       "      <th>3</th>\n",
       "      <td>841</td>\n",
       "      <td>20</td>\n",
       "      <td>5</td>\n",
       "      <td>1</td>\n",
       "      <td>1:32.342</td>\n",
       "      <td>92342</td>\n",
       "    </tr>\n",
       "    <tr>\n",
       "      <th>4</th>\n",
       "      <td>841</td>\n",
       "      <td>20</td>\n",
       "      <td>6</td>\n",
       "      <td>1</td>\n",
       "      <td>1:32.605</td>\n",
       "      <td>92605</td>\n",
       "    </tr>\n",
       "  </tbody>\n",
       "</table>\n",
       "</div>"
      ],
      "text/plain": [
       "   IdCarrera  IdPiloto  Vuelta  Posicion    Tiempo  Duracion(ms)\n",
       "0        841        20       2         1  1:33.006         93006\n",
       "1        841        20       3         1  1:32.713         92713\n",
       "2        841        20       4         1  1:32.803         92803\n",
       "3        841        20       5         1  1:32.342         92342\n",
       "4        841        20       6         1  1:32.605         92605"
      ]
     },
     "execution_count": 2,
     "metadata": {},
     "output_type": "execute_result"
    }
   ],
   "source": [
    "\n",
    "# Concatenar los dataframes\n",
    "data_lap = pd.concat([data_lap1, data_lap2, data_lap3, data_lap4, data_lap5], ignore_index=True)\n",
    "data_lap.head()"
   ]
  },
  {
   "cell_type": "code",
   "execution_count": 3,
   "metadata": {},
   "outputs": [
    {
     "data": {
      "text/html": [
       "<div>\n",
       "<style scoped>\n",
       "    .dataframe tbody tr th:only-of-type {\n",
       "        vertical-align: middle;\n",
       "    }\n",
       "\n",
       "    .dataframe tbody tr th {\n",
       "        vertical-align: top;\n",
       "    }\n",
       "\n",
       "    .dataframe thead th {\n",
       "        text-align: right;\n",
       "    }\n",
       "</style>\n",
       "<table border=\"1\" class=\"dataframe\">\n",
       "  <thead>\n",
       "    <tr style=\"text-align: right;\">\n",
       "      <th></th>\n",
       "      <th>IdCarrera</th>\n",
       "      <th>IdPiloto</th>\n",
       "      <th>Vuelta</th>\n",
       "      <th>Posicion</th>\n",
       "      <th>Tiempo</th>\n",
       "      <th>Duracion(ms)</th>\n",
       "    </tr>\n",
       "  </thead>\n",
       "  <tbody>\n",
       "    <tr>\n",
       "      <th>490894</th>\n",
       "      <td>1047</td>\n",
       "      <td>815</td>\n",
       "      <td>4</td>\n",
       "      <td>17</td>\n",
       "      <td>1:44.762</td>\n",
       "      <td>104762</td>\n",
       "    </tr>\n",
       "    <tr>\n",
       "      <th>490895</th>\n",
       "      <td>1047</td>\n",
       "      <td>815</td>\n",
       "      <td>5</td>\n",
       "      <td>16</td>\n",
       "      <td>1:43.786</td>\n",
       "      <td>103786</td>\n",
       "    </tr>\n",
       "    <tr>\n",
       "      <th>490896</th>\n",
       "      <td>1047</td>\n",
       "      <td>815</td>\n",
       "      <td>6</td>\n",
       "      <td>15</td>\n",
       "      <td>1:43.263</td>\n",
       "      <td>103263</td>\n",
       "    </tr>\n",
       "    <tr>\n",
       "      <th>490897</th>\n",
       "      <td>1047</td>\n",
       "      <td>815</td>\n",
       "      <td>7</td>\n",
       "      <td>15</td>\n",
       "      <td>1:45.123</td>\n",
       "      <td>105123</td>\n",
       "    </tr>\n",
       "    <tr>\n",
       "      <th>490898</th>\n",
       "      <td>1047</td>\n",
       "      <td>815</td>\n",
       "      <td>8</td>\n",
       "      <td>14</td>\n",
       "      <td>1:44.231</td>\n",
       "      <td>104231</td>\n",
       "    </tr>\n",
       "  </tbody>\n",
       "</table>\n",
       "</div>"
      ],
      "text/plain": [
       "        IdCarrera  IdPiloto  Vuelta  Posicion    Tiempo  Duracion(ms)\n",
       "490894       1047       815       4        17  1:44.762        104762\n",
       "490895       1047       815       5        16  1:43.786        103786\n",
       "490896       1047       815       6        15  1:43.263        103263\n",
       "490897       1047       815       7        15  1:45.123        105123\n",
       "490898       1047       815       8        14  1:44.231        104231"
      ]
     },
     "execution_count": 3,
     "metadata": {},
     "output_type": "execute_result"
    }
   ],
   "source": [
    "data_lap.tail()"
   ]
  },
  {
   "cell_type": "code",
   "execution_count": 4,
   "metadata": {},
   "outputs": [
    {
     "name": "stdout",
     "output_type": "stream",
     "text": [
      "<class 'pandas.core.frame.DataFrame'>\n",
      "RangeIndex: 490899 entries, 0 to 490898\n",
      "Data columns (total 6 columns):\n",
      " #   Column        Non-Null Count   Dtype \n",
      "---  ------        --------------   ----- \n",
      " 0   IdCarrera     490899 non-null  int64 \n",
      " 1   IdPiloto      490899 non-null  int64 \n",
      " 2   Vuelta        490899 non-null  int64 \n",
      " 3   Posicion      490899 non-null  int64 \n",
      " 4   Tiempo        490899 non-null  object\n",
      " 5   Duracion(ms)  490899 non-null  int64 \n",
      "dtypes: int64(5), object(1)\n",
      "memory usage: 20.6+ MB\n"
     ]
    }
   ],
   "source": [
    "data_lap.info()"
   ]
  },
  {
   "cell_type": "code",
   "execution_count": 5,
   "metadata": {},
   "outputs": [],
   "source": [
    "# Converir IdCalificacion en indice\n",
    "data_lap.set_index('IdCarrera', inplace=True)"
   ]
  },
  {
   "cell_type": "code",
   "execution_count": 6,
   "metadata": {},
   "outputs": [
    {
     "data": {
      "text/plain": [
       "IdPiloto        0\n",
       "Vuelta          0\n",
       "Posicion        0\n",
       "Tiempo          0\n",
       "Duracion(ms)    0\n",
       "dtype: int64"
      ]
     },
     "execution_count": 6,
     "metadata": {},
     "output_type": "execute_result"
    }
   ],
   "source": [
    "# contar cuantos valores de tipo '\\\\N' hay en cada columna\n",
    "data_lap.apply(lambda x: sum(x=='\\\\N'), axis=0)"
   ]
  },
  {
   "cell_type": "code",
   "execution_count": 7,
   "metadata": {},
   "outputs": [],
   "source": [
    "# Reemplazar los valores '\\\\N' y los vacios por valores nulos\n",
    "data_lap = data_lap.replace('\\\\N', np.nan)\n",
    "data_lap = data_lap.replace('', np.nan)"
   ]
  },
  {
   "cell_type": "code",
   "execution_count": 8,
   "metadata": {},
   "outputs": [
    {
     "data": {
      "text/html": [
       "<div>\n",
       "<style scoped>\n",
       "    .dataframe tbody tr th:only-of-type {\n",
       "        vertical-align: middle;\n",
       "    }\n",
       "\n",
       "    .dataframe tbody tr th {\n",
       "        vertical-align: top;\n",
       "    }\n",
       "\n",
       "    .dataframe thead th {\n",
       "        text-align: right;\n",
       "    }\n",
       "</style>\n",
       "<table border=\"1\" class=\"dataframe\">\n",
       "  <thead>\n",
       "    <tr style=\"text-align: right;\">\n",
       "      <th></th>\n",
       "      <th>IdPiloto</th>\n",
       "      <th>Vuelta</th>\n",
       "      <th>Posicion</th>\n",
       "      <th>Tiempo</th>\n",
       "      <th>Duracion(ms)</th>\n",
       "    </tr>\n",
       "    <tr>\n",
       "      <th>IdCarrera</th>\n",
       "      <th></th>\n",
       "      <th></th>\n",
       "      <th></th>\n",
       "      <th></th>\n",
       "      <th></th>\n",
       "    </tr>\n",
       "  </thead>\n",
       "  <tbody>\n",
       "    <tr>\n",
       "      <th>841</th>\n",
       "      <td>20</td>\n",
       "      <td>2</td>\n",
       "      <td>1</td>\n",
       "      <td>1:33.006</td>\n",
       "      <td>93006</td>\n",
       "    </tr>\n",
       "    <tr>\n",
       "      <th>841</th>\n",
       "      <td>20</td>\n",
       "      <td>3</td>\n",
       "      <td>1</td>\n",
       "      <td>1:32.713</td>\n",
       "      <td>92713</td>\n",
       "    </tr>\n",
       "    <tr>\n",
       "      <th>841</th>\n",
       "      <td>20</td>\n",
       "      <td>4</td>\n",
       "      <td>1</td>\n",
       "      <td>1:32.803</td>\n",
       "      <td>92803</td>\n",
       "    </tr>\n",
       "    <tr>\n",
       "      <th>841</th>\n",
       "      <td>20</td>\n",
       "      <td>5</td>\n",
       "      <td>1</td>\n",
       "      <td>1:32.342</td>\n",
       "      <td>92342</td>\n",
       "    </tr>\n",
       "    <tr>\n",
       "      <th>841</th>\n",
       "      <td>20</td>\n",
       "      <td>6</td>\n",
       "      <td>1</td>\n",
       "      <td>1:32.605</td>\n",
       "      <td>92605</td>\n",
       "    </tr>\n",
       "  </tbody>\n",
       "</table>\n",
       "</div>"
      ],
      "text/plain": [
       "           IdPiloto  Vuelta  Posicion    Tiempo  Duracion(ms)\n",
       "IdCarrera                                                    \n",
       "841              20       2         1  1:33.006         93006\n",
       "841              20       3         1  1:32.713         92713\n",
       "841              20       4         1  1:32.803         92803\n",
       "841              20       5         1  1:32.342         92342\n",
       "841              20       6         1  1:32.605         92605"
      ]
     },
     "execution_count": 8,
     "metadata": {},
     "output_type": "execute_result"
    }
   ],
   "source": [
    "data_lap.head()"
   ]
  },
  {
   "cell_type": "code",
   "execution_count": 9,
   "metadata": {},
   "outputs": [
    {
     "name": "stdout",
     "output_type": "stream",
     "text": [
      "<class 'pandas.core.frame.DataFrame'>\n",
      "Int64Index: 490899 entries, 841 to 1047\n",
      "Data columns (total 5 columns):\n",
      " #   Column        Non-Null Count   Dtype \n",
      "---  ------        --------------   ----- \n",
      " 0   IdPiloto      490899 non-null  int64 \n",
      " 1   Vuelta        490899 non-null  int64 \n",
      " 2   Posicion      490899 non-null  int64 \n",
      " 3   Tiempo        490899 non-null  object\n",
      " 4   Duracion(ms)  490899 non-null  int64 \n",
      "dtypes: int64(4), object(1)\n",
      "memory usage: 20.6+ MB\n"
     ]
    }
   ],
   "source": [
    "data_lap.info()"
   ]
  },
  {
   "cell_type": "code",
   "execution_count": 10,
   "metadata": {},
   "outputs": [],
   "source": [
    "# exportar la data a un archivo csv\n",
    "data_lap.to_csv('DATA_FINAL/laptimes_final.csv')"
   ]
  }
 ],
 "metadata": {
  "kernelspec": {
   "display_name": "Python 3.8.5 32-bit",
   "language": "python",
   "name": "python3"
  },
  "language_info": {
   "codemirror_mode": {
    "name": "ipython",
    "version": 3
   },
   "file_extension": ".py",
   "mimetype": "text/x-python",
   "name": "python",
   "nbconvert_exporter": "python",
   "pygments_lexer": "ipython3",
   "version": "3.8.5"
  },
  "orig_nbformat": 4,
  "vscode": {
   "interpreter": {
    "hash": "e0784752781a6d909a602a7d3022c4f4bee7a870c3a195c2e9353548b6665c26"
   }
  }
 },
 "nbformat": 4,
 "nbformat_minor": 2
}
