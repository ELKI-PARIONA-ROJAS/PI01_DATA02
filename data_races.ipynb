{
 "cells": [
  {
   "cell_type": "code",
   "execution_count": 1,
   "metadata": {},
   "outputs": [],
   "source": [
    "# importar las librerias y la base de datos\n",
    "\n",
    "import pandas as pd\n",
    "import numpy as np\n",
    "\n",
    "data_races = pd.read_csv('Datasets/races.csv')"
   ]
  },
  {
   "cell_type": "code",
   "execution_count": 2,
   "metadata": {},
   "outputs": [
    {
     "data": {
      "text/html": [
       "<div>\n",
       "<style scoped>\n",
       "    .dataframe tbody tr th:only-of-type {\n",
       "        vertical-align: middle;\n",
       "    }\n",
       "\n",
       "    .dataframe tbody tr th {\n",
       "        vertical-align: top;\n",
       "    }\n",
       "\n",
       "    .dataframe thead th {\n",
       "        text-align: right;\n",
       "    }\n",
       "</style>\n",
       "<table border=\"1\" class=\"dataframe\">\n",
       "  <thead>\n",
       "    <tr style=\"text-align: right;\">\n",
       "      <th></th>\n",
       "      <th>raceId</th>\n",
       "      <th>year</th>\n",
       "      <th>round</th>\n",
       "      <th>circuitId</th>\n",
       "      <th>name</th>\n",
       "      <th>date</th>\n",
       "      <th>time</th>\n",
       "      <th>url</th>\n",
       "    </tr>\n",
       "  </thead>\n",
       "  <tbody>\n",
       "    <tr>\n",
       "      <th>0</th>\n",
       "      <td>1</td>\n",
       "      <td>2009</td>\n",
       "      <td>1</td>\n",
       "      <td>1</td>\n",
       "      <td>Australian Grand Prix</td>\n",
       "      <td>2009-03-29</td>\n",
       "      <td>06:00:00</td>\n",
       "      <td>http://en.wikipedia.org/wiki/2009_Australian_G...</td>\n",
       "    </tr>\n",
       "    <tr>\n",
       "      <th>1</th>\n",
       "      <td>2</td>\n",
       "      <td>2009</td>\n",
       "      <td>2</td>\n",
       "      <td>2</td>\n",
       "      <td>Malaysian Grand Prix</td>\n",
       "      <td>2009-04-05</td>\n",
       "      <td>09:00:00</td>\n",
       "      <td>http://en.wikipedia.org/wiki/2009_Malaysian_Gr...</td>\n",
       "    </tr>\n",
       "    <tr>\n",
       "      <th>2</th>\n",
       "      <td>3</td>\n",
       "      <td>2009</td>\n",
       "      <td>3</td>\n",
       "      <td>17</td>\n",
       "      <td>Chinese Grand Prix</td>\n",
       "      <td>2009-04-19</td>\n",
       "      <td>07:00:00</td>\n",
       "      <td>http://en.wikipedia.org/wiki/2009_Chinese_Gran...</td>\n",
       "    </tr>\n",
       "    <tr>\n",
       "      <th>3</th>\n",
       "      <td>4</td>\n",
       "      <td>2009</td>\n",
       "      <td>4</td>\n",
       "      <td>3</td>\n",
       "      <td>Bahrain Grand Prix</td>\n",
       "      <td>2009-04-26</td>\n",
       "      <td>12:00:00</td>\n",
       "      <td>http://en.wikipedia.org/wiki/2009_Bahrain_Gran...</td>\n",
       "    </tr>\n",
       "    <tr>\n",
       "      <th>4</th>\n",
       "      <td>5</td>\n",
       "      <td>2009</td>\n",
       "      <td>5</td>\n",
       "      <td>4</td>\n",
       "      <td>Spanish Grand Prix</td>\n",
       "      <td>2009-05-10</td>\n",
       "      <td>12:00:00</td>\n",
       "      <td>http://en.wikipedia.org/wiki/2009_Spanish_Gran...</td>\n",
       "    </tr>\n",
       "  </tbody>\n",
       "</table>\n",
       "</div>"
      ],
      "text/plain": [
       "   raceId  year  round  circuitId                   name        date  \\\n",
       "0       1  2009      1          1  Australian Grand Prix  2009-03-29   \n",
       "1       2  2009      2          2   Malaysian Grand Prix  2009-04-05   \n",
       "2       3  2009      3         17     Chinese Grand Prix  2009-04-19   \n",
       "3       4  2009      4          3     Bahrain Grand Prix  2009-04-26   \n",
       "4       5  2009      5          4     Spanish Grand Prix  2009-05-10   \n",
       "\n",
       "       time                                                url  \n",
       "0  06:00:00  http://en.wikipedia.org/wiki/2009_Australian_G...  \n",
       "1  09:00:00  http://en.wikipedia.org/wiki/2009_Malaysian_Gr...  \n",
       "2  07:00:00  http://en.wikipedia.org/wiki/2009_Chinese_Gran...  \n",
       "3  12:00:00  http://en.wikipedia.org/wiki/2009_Bahrain_Gran...  \n",
       "4  12:00:00  http://en.wikipedia.org/wiki/2009_Spanish_Gran...  "
      ]
     },
     "execution_count": 2,
     "metadata": {},
     "output_type": "execute_result"
    }
   ],
   "source": [
    "data_races.head()"
   ]
  },
  {
   "cell_type": "code",
   "execution_count": 3,
   "metadata": {},
   "outputs": [
    {
     "name": "stdout",
     "output_type": "stream",
     "text": [
      "<class 'pandas.core.frame.DataFrame'>\n",
      "RangeIndex: 1058 entries, 0 to 1057\n",
      "Data columns (total 8 columns):\n",
      " #   Column     Non-Null Count  Dtype \n",
      "---  ------     --------------  ----- \n",
      " 0   raceId     1058 non-null   int64 \n",
      " 1   year       1058 non-null   int64 \n",
      " 2   round      1058 non-null   int64 \n",
      " 3   circuitId  1058 non-null   int64 \n",
      " 4   name       1058 non-null   object\n",
      " 5   date       1058 non-null   object\n",
      " 6   time       1058 non-null   object\n",
      " 7   url        1058 non-null   object\n",
      "dtypes: int64(4), object(4)\n",
      "memory usage: 49.7+ KB\n"
     ]
    }
   ],
   "source": [
    "data_races.info()"
   ]
  },
  {
   "cell_type": "code",
   "execution_count": 4,
   "metadata": {},
   "outputs": [],
   "source": [
    "# renombrar las columnas\n",
    "data_races.rename(columns={'raceId':'IdCarrera','year':'Año','round':'Ronda','circuitId':'IdCircuito',\n",
    "                        'name':'Nombre_Carrera','date':'Fecha','time':'Tiempo','url':'Url_Carrera'}, inplace=True)"
   ]
  },
  {
   "cell_type": "code",
   "execution_count": 5,
   "metadata": {},
   "outputs": [],
   "source": [
    "# Cambiar tipo de dato de la columna date\n",
    "data_races['Fecha'] = pd.to_datetime(data_races['Fecha'], format='%Y/%m/%d')\n"
   ]
  },
  {
   "cell_type": "code",
   "execution_count": 6,
   "metadata": {},
   "outputs": [],
   "source": [
    "# Poner como indice la columna IdCircuito\n",
    "data_races.set_index('IdCarrera', inplace=True)\n",
    "\n",
    "# Eliminar los espacios en blanco en las columnas tipo objeto\n",
    "data_races['Nombre_Carrera'] = data_races['Nombre_Carrera'].str.strip()\n",
    "data_races['Url_Carrera'] = data_races['Url_Carrera'].str.strip()\n",
    "\n",
    "# Poner en modo titulo los nombres en la columna ciudad\n",
    "data_races['Nombre_Carrera'] = data_races['Nombre_Carrera'].str.title()\n"
   ]
  },
  {
   "cell_type": "code",
   "execution_count": 7,
   "metadata": {},
   "outputs": [
    {
     "data": {
      "text/plain": [
       "Año                 0\n",
       "Ronda               0\n",
       "IdCircuito          0\n",
       "Nombre_Carrera      0\n",
       "Fecha               0\n",
       "Tiempo            732\n",
       "Url_Carrera         0\n",
       "dtype: int64"
      ]
     },
     "execution_count": 7,
     "metadata": {},
     "output_type": "execute_result"
    }
   ],
   "source": [
    "# contar cuantos valores de tipo '\\\\N' hay en cada columna\n",
    "data_races.apply(lambda x: sum(x=='\\\\N'), axis=0)"
   ]
  },
  {
   "cell_type": "code",
   "execution_count": 8,
   "metadata": {},
   "outputs": [],
   "source": [
    "# Reemplazar los valores '\\\\N' y los vacios por valores nulos\n",
    "data_races = data_races.replace('\\\\N', np.nan)\n",
    "data_races = data_races.replace('', np.nan)"
   ]
  },
  {
   "cell_type": "code",
   "execution_count": 9,
   "metadata": {},
   "outputs": [
    {
     "data": {
      "text/html": [
       "<div>\n",
       "<style scoped>\n",
       "    .dataframe tbody tr th:only-of-type {\n",
       "        vertical-align: middle;\n",
       "    }\n",
       "\n",
       "    .dataframe tbody tr th {\n",
       "        vertical-align: top;\n",
       "    }\n",
       "\n",
       "    .dataframe thead th {\n",
       "        text-align: right;\n",
       "    }\n",
       "</style>\n",
       "<table border=\"1\" class=\"dataframe\">\n",
       "  <thead>\n",
       "    <tr style=\"text-align: right;\">\n",
       "      <th></th>\n",
       "      <th>Año</th>\n",
       "      <th>Ronda</th>\n",
       "      <th>IdCircuito</th>\n",
       "      <th>Nombre_Carrera</th>\n",
       "      <th>Fecha</th>\n",
       "      <th>Tiempo</th>\n",
       "      <th>Url_Carrera</th>\n",
       "    </tr>\n",
       "    <tr>\n",
       "      <th>IdCarrera</th>\n",
       "      <th></th>\n",
       "      <th></th>\n",
       "      <th></th>\n",
       "      <th></th>\n",
       "      <th></th>\n",
       "      <th></th>\n",
       "      <th></th>\n",
       "    </tr>\n",
       "  </thead>\n",
       "  <tbody>\n",
       "    <tr>\n",
       "      <th>1</th>\n",
       "      <td>2009</td>\n",
       "      <td>1</td>\n",
       "      <td>1</td>\n",
       "      <td>Australian Grand Prix</td>\n",
       "      <td>2009-03-29</td>\n",
       "      <td>06:00:00</td>\n",
       "      <td>http://en.wikipedia.org/wiki/2009_Australian_G...</td>\n",
       "    </tr>\n",
       "    <tr>\n",
       "      <th>2</th>\n",
       "      <td>2009</td>\n",
       "      <td>2</td>\n",
       "      <td>2</td>\n",
       "      <td>Malaysian Grand Prix</td>\n",
       "      <td>2009-04-05</td>\n",
       "      <td>09:00:00</td>\n",
       "      <td>http://en.wikipedia.org/wiki/2009_Malaysian_Gr...</td>\n",
       "    </tr>\n",
       "    <tr>\n",
       "      <th>3</th>\n",
       "      <td>2009</td>\n",
       "      <td>3</td>\n",
       "      <td>17</td>\n",
       "      <td>Chinese Grand Prix</td>\n",
       "      <td>2009-04-19</td>\n",
       "      <td>07:00:00</td>\n",
       "      <td>http://en.wikipedia.org/wiki/2009_Chinese_Gran...</td>\n",
       "    </tr>\n",
       "    <tr>\n",
       "      <th>4</th>\n",
       "      <td>2009</td>\n",
       "      <td>4</td>\n",
       "      <td>3</td>\n",
       "      <td>Bahrain Grand Prix</td>\n",
       "      <td>2009-04-26</td>\n",
       "      <td>12:00:00</td>\n",
       "      <td>http://en.wikipedia.org/wiki/2009_Bahrain_Gran...</td>\n",
       "    </tr>\n",
       "    <tr>\n",
       "      <th>5</th>\n",
       "      <td>2009</td>\n",
       "      <td>5</td>\n",
       "      <td>4</td>\n",
       "      <td>Spanish Grand Prix</td>\n",
       "      <td>2009-05-10</td>\n",
       "      <td>12:00:00</td>\n",
       "      <td>http://en.wikipedia.org/wiki/2009_Spanish_Gran...</td>\n",
       "    </tr>\n",
       "  </tbody>\n",
       "</table>\n",
       "</div>"
      ],
      "text/plain": [
       "            Año  Ronda  IdCircuito         Nombre_Carrera      Fecha  \\\n",
       "IdCarrera                                                              \n",
       "1          2009      1           1  Australian Grand Prix 2009-03-29   \n",
       "2          2009      2           2   Malaysian Grand Prix 2009-04-05   \n",
       "3          2009      3          17     Chinese Grand Prix 2009-04-19   \n",
       "4          2009      4           3     Bahrain Grand Prix 2009-04-26   \n",
       "5          2009      5           4     Spanish Grand Prix 2009-05-10   \n",
       "\n",
       "             Tiempo                                        Url_Carrera  \n",
       "IdCarrera                                                               \n",
       "1          06:00:00  http://en.wikipedia.org/wiki/2009_Australian_G...  \n",
       "2          09:00:00  http://en.wikipedia.org/wiki/2009_Malaysian_Gr...  \n",
       "3          07:00:00  http://en.wikipedia.org/wiki/2009_Chinese_Gran...  \n",
       "4          12:00:00  http://en.wikipedia.org/wiki/2009_Bahrain_Gran...  \n",
       "5          12:00:00  http://en.wikipedia.org/wiki/2009_Spanish_Gran...  "
      ]
     },
     "execution_count": 9,
     "metadata": {},
     "output_type": "execute_result"
    }
   ],
   "source": [
    "data_races.head()"
   ]
  },
  {
   "cell_type": "code",
   "execution_count": 10,
   "metadata": {},
   "outputs": [
    {
     "name": "stdout",
     "output_type": "stream",
     "text": [
      "<class 'pandas.core.frame.DataFrame'>\n",
      "Int64Index: 1058 entries, 1 to 1073\n",
      "Data columns (total 7 columns):\n",
      " #   Column          Non-Null Count  Dtype         \n",
      "---  ------          --------------  -----         \n",
      " 0   Año             1058 non-null   int64         \n",
      " 1   Ronda           1058 non-null   int64         \n",
      " 2   IdCircuito      1058 non-null   int64         \n",
      " 3   Nombre_Carrera  1058 non-null   object        \n",
      " 4   Fecha           1058 non-null   datetime64[ns]\n",
      " 5   Tiempo          326 non-null    object        \n",
      " 6   Url_Carrera     1058 non-null   object        \n",
      "dtypes: datetime64[ns](1), int64(3), object(3)\n",
      "memory usage: 53.7+ KB\n"
     ]
    }
   ],
   "source": [
    "data_races.info()"
   ]
  },
  {
   "cell_type": "code",
   "execution_count": 11,
   "metadata": {},
   "outputs": [],
   "source": [
    "# exportar la data a un archivo csv\n",
    "data_races.to_csv('DATA_FINAL/races_final.csv')"
   ]
  }
 ],
 "metadata": {
  "kernelspec": {
   "display_name": "Python 3.8.5 32-bit",
   "language": "python",
   "name": "python3"
  },
  "language_info": {
   "codemirror_mode": {
    "name": "ipython",
    "version": 3
   },
   "file_extension": ".py",
   "mimetype": "text/x-python",
   "name": "python",
   "nbconvert_exporter": "python",
   "pygments_lexer": "ipython3",
   "version": "3.8.5"
  },
  "orig_nbformat": 4,
  "vscode": {
   "interpreter": {
    "hash": "e0784752781a6d909a602a7d3022c4f4bee7a870c3a195c2e9353548b6665c26"
   }
  }
 },
 "nbformat": 4,
 "nbformat_minor": 2
}
